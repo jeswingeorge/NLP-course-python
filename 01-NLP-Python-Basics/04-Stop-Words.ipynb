{
 "cells": [
  {
   "cell_type": "markdown",
   "metadata": {},
   "source": [
    "___\n",
    "\n",
    "<a href='http://www.pieriandata.com'> <img src='../Pierian_Data_Logo.png' /></a>\n",
    "___"
   ]
  },
  {
   "cell_type": "markdown",
   "metadata": {},
   "source": [
    "# Stop Words\n",
    "Words like \"a\" and \"the\" appear so frequently that they don't require tagging as thoroughly as nouns, verbs and modifiers. We call these *stop words*, and they can be filtered from the text to be processed. spaCy holds a built-in list of some 305 English stop words."
   ]
  },
  {
   "cell_type": "code",
   "execution_count": 1,
   "metadata": {},
   "outputs": [],
   "source": [
    "# Perform standard imports:\n",
    "import spacy\n",
    "nlp = spacy.load('en_core_web_sm')"
   ]
  },
  {
   "cell_type": "code",
   "execution_count": 2,
   "metadata": {},
   "outputs": [
    {
     "name": "stdout",
     "output_type": "stream",
     "text": [
      "{'you', 'by', 'around', 'hereupon', 'onto', 'me', 'did', 'which', 'various', 'move', 'their', 'serious', 'say', 'who', 'here', 'less', 'because', 'nowhere', 'may', 'most', \"'ll\", 'moreover', 'keep', 'anyone', 'these', 'meanwhile', 'every', 'least', 'seeming', 'was', 'an', 'so', 'amongst', 'unless', 'whom', 'show', 'using', 'below', 'i', 'former', 'third', 'always', 'for', 'in', 'doing', 'latterly', 'one', 'such', 'each', 'and', 'hereafter', 'forty', 'empty', 'under', 'seemed', 'be', 'among', 'take', \"'d\", 'then', 'him', 'beside', 'this', \"n't\", 'beforehand', 'it', 'noone', 'enough', 'twenty', 'before', 'while', 'twelve', 'would', \"'re\", 'whose', \"'ve\", 'toward', 'hers', 'about', 'to', 'first', 'go', 'has', 'becoming', 'not', 'via', 'further', 'until', 'after', 'of', 'afterwards', 'down', 'still', 'whole', 'mine', 'am', 'neither', '‘m', 'hundred', 'thereafter', 'somehow', 'we', 'above', 'few', 'back', 'although', 'well', 'seems', 're', 'done', 'elsewhere', 'namely', 'amount', 'just', 'no', 'does', 'on', 'yours', 'when', 'formerly', 'except', 'myself', 'within', 'into', 'either', 'now', 'those', 'they', 'quite', 'once', 'same', 'per', 'everywhere', 'nevertheless', 'should', 'both', 'itself', 'again', 'whereafter', 'own', 'yet', 'sometimes', 'what', '’s', 'us', 'if', 'wherever', 'perhaps', 'where', 'out', 'become', 'n‘t', 'last', 'part', 'but', 'something', 'though', 'along', 'anyhow', \"'m\", 'two', 'therein', 'besides', 'are', 'his', 'almost', 'over', 'hence', 'yourselves', 'can', 'whether', 'since', 'n’t', 'beyond', '’re', 'could', 'through', 'top', 'its', 'really', 'otherwise', 'he', 'any', 'another', 'together', 'even', 'do', 'must', 'between', 'whereby', 'everyone', 'eight', 'had', 'my', 'became', 'more', '‘s', 'herein', 'have', 'full', 'across', 'whereas', 'next', 'ca', 'several', 'never', 'against', 'anywhere', 'front', 'the', '’ll', 'them', 'from', 'how', 'due', 'himself', 'thus', 'our', 'thru', 'therefore', 'four', 'nor', 'a', 'regarding', 'six', 'were', 'themselves', 'off', 'than', 'fifty', 'wherein', 'sixty', 'whence', 'yourself', 'please', 'eleven', 'much', 'mostly', 'however', '‘ve', 'there', 'give', 'might', 'at', 'cannot', 'nobody', 'also', 'put', 'anything', 'other', 'ourselves', 'your', 'towards', 'with', 'whoever', 'nine', 'ours', '‘ll', 'whereupon', 'upon', 'without', 'sometime', 'already', 'thereby', 'too', 'will', 'call', 'all', 'name', 'many', '’d', 'or', 'up', '’ve', 'bottom', 'made', 'thence', 'whither', 'being', 'thereupon', 'five', 'latter', 'ten', 'indeed', 'that', 'others', 'side', 'during', 'ever', 'get', 'is', 'often', 'whenever', '’m', 'see', 'anyway', 'three', 'used', 'becomes', 'else', 'been', 'fifteen', 'nothing', '‘re', 'behind', 'rather', 'some', 'make', 'everything', 'throughout', 'her', '‘d', 'seem', 'someone', 'herself', 'hereby', 'somewhere', 'as', 'only', 'she', 'none', \"'s\", 'very', 'alone', 'whatever', 'why'}\n"
     ]
    }
   ],
   "source": [
    "# Print the set of spaCy's default stop words (remember that sets are unordered):\n",
    "print(nlp.Defaults.stop_words)"
   ]
  },
  {
   "cell_type": "code",
   "execution_count": 3,
   "metadata": {},
   "outputs": [
    {
     "data": {
      "text/plain": [
       "326"
      ]
     },
     "execution_count": 3,
     "metadata": {},
     "output_type": "execute_result"
    }
   ],
   "source": [
    "len(nlp.Defaults.stop_words)"
   ]
  },
  {
   "cell_type": "markdown",
   "metadata": {},
   "source": [
    "## To see if a word is a stop word"
   ]
  },
  {
   "cell_type": "code",
   "execution_count": 4,
   "metadata": {},
   "outputs": [
    {
     "data": {
      "text/plain": [
       "True"
      ]
     },
     "execution_count": 4,
     "metadata": {},
     "output_type": "execute_result"
    }
   ],
   "source": [
    "nlp.vocab['myself'].is_stop"
   ]
  },
  {
   "cell_type": "code",
   "execution_count": 4,
   "metadata": {},
   "outputs": [
    {
     "data": {
      "text/plain": [
       "True"
      ]
     },
     "execution_count": 4,
     "metadata": {},
     "output_type": "execute_result"
    }
   ],
   "source": [
    "nlp.vocab['is'].is_stop"
   ]
  },
  {
   "cell_type": "code",
   "execution_count": 5,
   "metadata": {},
   "outputs": [
    {
     "data": {
      "text/plain": [
       "False"
      ]
     },
     "execution_count": 5,
     "metadata": {},
     "output_type": "execute_result"
    }
   ],
   "source": [
    "nlp.vocab['mystery'].is_stop"
   ]
  },
  {
   "cell_type": "markdown",
   "metadata": {},
   "source": [
    "## To add a stop word\n",
    "There may be times when you wish to add a stop word to the default set. Perhaps you decide that `'btw'` (common shorthand for \"by the way\") should be considered a stop word."
   ]
  },
  {
   "cell_type": "code",
   "execution_count": 6,
   "metadata": {},
   "outputs": [],
   "source": [
    "# Add the word to the set of stop words. Use lowercase!\n",
    "nlp.Defaults.stop_words.add('btw')\n",
    "\n",
    "# Set the stop_word tag on the lexeme\n",
    "nlp.vocab['btw'].is_stop = True"
   ]
  },
  {
   "cell_type": "code",
   "execution_count": 7,
   "metadata": {},
   "outputs": [
    {
     "data": {
      "text/plain": [
       "327"
      ]
     },
     "execution_count": 7,
     "metadata": {},
     "output_type": "execute_result"
    }
   ],
   "source": [
    "len(nlp.Defaults.stop_words)"
   ]
  },
  {
   "cell_type": "markdown",
   "metadata": {},
   "source": [
    "Length increases by 1"
   ]
  },
  {
   "cell_type": "code",
   "execution_count": 8,
   "metadata": {},
   "outputs": [
    {
     "data": {
      "text/plain": [
       "True"
      ]
     },
     "execution_count": 8,
     "metadata": {},
     "output_type": "execute_result"
    }
   ],
   "source": [
    "nlp.vocab['btw'].is_stop"
   ]
  },
  {
   "cell_type": "markdown",
   "metadata": {},
   "source": [
    "<font color=green>When adding stop words, always use lowercase. Lexemes are converted to lowercase before being added to **vocab**.</font>"
   ]
  },
  {
   "cell_type": "markdown",
   "metadata": {},
   "source": [
    "## To remove a stop word\n",
    "Alternatively, you may decide that `'beyond'` should not be considered a stop word."
   ]
  },
  {
   "cell_type": "code",
   "execution_count": 9,
   "metadata": {},
   "outputs": [],
   "source": [
    "# Remove the word from the set of stop words\n",
    "nlp.Defaults.stop_words.remove('beyond')\n",
    "\n",
    "# Remove the stop_word tag from the lexeme\n",
    "nlp.vocab['beyond'].is_stop = False"
   ]
  },
  {
   "cell_type": "code",
   "execution_count": 10,
   "metadata": {},
   "outputs": [
    {
     "data": {
      "text/plain": [
       "326"
      ]
     },
     "execution_count": 10,
     "metadata": {},
     "output_type": "execute_result"
    }
   ],
   "source": [
    "len(nlp.Defaults.stop_words)"
   ]
  },
  {
   "cell_type": "code",
   "execution_count": 11,
   "metadata": {},
   "outputs": [
    {
     "data": {
      "text/plain": [
       "False"
      ]
     },
     "execution_count": 11,
     "metadata": {},
     "output_type": "execute_result"
    }
   ],
   "source": [
    "nlp.vocab['beyond'].is_stop"
   ]
  },
  {
   "cell_type": "markdown",
   "metadata": {},
   "source": [
    "Great! Now you should be able to access spaCy's default set of stop words, and add or remove stop words as needed.\n",
    "## Next up: Vocabulary and Matching"
   ]
  }
 ],
 "metadata": {
  "kernelspec": {
   "display_name": "Python 3 (ipykernel)",
   "language": "python",
   "name": "python3"
  },
  "language_info": {
   "codemirror_mode": {
    "name": "ipython",
    "version": 3
   },
   "file_extension": ".py",
   "mimetype": "text/x-python",
   "name": "python",
   "nbconvert_exporter": "python",
   "pygments_lexer": "ipython3",
   "version": "3.11.11"
  }
 },
 "nbformat": 4,
 "nbformat_minor": 4
}
