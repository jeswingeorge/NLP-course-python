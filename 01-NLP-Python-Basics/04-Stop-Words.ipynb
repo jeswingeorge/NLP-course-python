{
 "cells": [
  {
   "cell_type": "markdown",
   "metadata": {},
   "source": [
    "___\n",
    "\n",
    "<a href='http://www.pieriandata.com'> <img src='../Pierian_Data_Logo.png' /></a>\n",
    "___"
   ]
  },
  {
   "cell_type": "markdown",
   "metadata": {},
   "source": [
    "# Stop Words\n",
    "Words like \"a\" and \"the\" appear so frequently that they don't require tagging as thoroughly as nouns, verbs and modifiers. We call these *stop words*, and they can be filtered from the text to be processed. spaCy holds a built-in list of some 305 English stop words."
   ]
  },
  {
   "cell_type": "code",
   "execution_count": 1,
   "metadata": {},
   "outputs": [],
   "source": [
    "# Perform standard imports:\n",
    "import spacy\n",
    "nlp = spacy.load('en_core_web_sm')"
   ]
  },
  {
   "cell_type": "code",
   "execution_count": 2,
   "metadata": {},
   "outputs": [
    {
     "name": "stdout",
     "output_type": "stream",
     "text": [
      "{'‘s', 'somehow', \"'m\", 'used', '’re', 'eleven', 'yours', 'no', 'below', 'towards', 'enough', 'you', 'top', 'must', 'at', 'done', 'whereby', 'us', 'during', 'other', 'get', 'without', 'always', \"'d\", 'three', 'thereafter', 'however', 'cannot', 'off', 'does', 'herself', 'nevertheless', 'whom', 'under', 'go', 'herein', 'me', 'whither', 'seem', 'never', 'is', 'six', 'what', 'another', 'please', 'them', 'elsewhere', 'across', 'really', 'twenty', 'n‘t', 'with', 'that', 'somewhere', 'make', 'when', 'have', 'through', 'whoever', 'anyhow', 'myself', 'such', 'hereby', 'if', 're', 'him', 'moreover', 'whether', 'since', 'on', 'everyone', 'ours', 'many', 'yet', 'all', 'into', 'already', 'out', 'latter', 'yourselves', 'therefore', 'twelve', 'your', 'eight', 'we', 'via', 'both', 'now', \"'re\", 'ca', 'nine', 'before', 'although', 'beforehand', 'why', 'against', 'thereby', 'would', 'full', 'over', 'least', 'four', 'own', 'well', 'may', 'something', '‘ll', 'empty', 'name', 'often', 'neither', '‘m', 'everything', 'fifty', 'sometimes', 'had', 'per', 'above', 'seemed', 'how', 'might', 'third', 'became', 'hereupon', 'hence', 'within', 'some', 'besides', 'again', 'say', 'then', \"'s\", 'been', 'not', 'formerly', 'keep', 'between', 'it', 'these', \"'ve\", 'even', 'give', 'throughout', 'the', 'thence', 'and', 'perhaps', 'my', 'mine', 'among', 'afterwards', 'can', 'else', 'because', 'one', 'along', 'various', '‘d', 'wherein', 'onto', 'up', 'of', 'next', 'namely', 'see', '’d', 'so', 'doing', 'also', 'was', 'anyone', 'our', 'which', 'upon', 'except', 'each', 'thereupon', 'anything', '’m', 'yourself', 'regarding', 'are', 'itself', 'two', 'more', 'latterly', 'further', 'where', 'an', 'do', 'same', 'n’t', 'whose', 'did', 'wherever', \"'ll\", 'become', 'almost', 'himself', 'move', 'few', 'rather', 'sixty', 'still', 'front', 'others', 'she', 'forty', 'becomes', '’s', 'seeming', 'using', 'there', 'quite', 'here', 'hundred', 'ourselves', 'due', 'i', 'call', 'should', \"n't\", '’ve', 'but', 'side', 'than', 'their', 'fifteen', 'only', 'from', '‘re', 'most', 'whereafter', 'much', 'after', 'every', 'for', 'unless', 'nobody', 'nothing', 'he', 'being', 'meanwhile', 'put', 'will', 'thru', 'sometime', 'anyway', 'her', 'hers', 'seems', 'this', 'has', 'whenever', 'beside', 'serious', 'either', 'were', 'none', 'ten', 'to', 'therein', 'its', 'around', 'while', 'otherwise', 'those', 'themselves', 'becoming', 'whence', 'indeed', 'be', 'who', 'any', 'his', 'whereas', 'once', 'very', 'whole', 'hereafter', 'whereupon', 'or', 'beyond', 'by', '‘ve', 'could', 'bottom', 'first', 'ever', 'am', 'as', 'show', 'less', 'former', 'behind', 'down', 'amongst', 'nowhere', 'toward', 'a', 'made', 'part', 'thus', 'amount', 'just', '’ll', 'anywhere', 'five', 'about', 'mostly', 'last', 'they', 'until', 'noone', 'take', 'whatever', 'someone', 'several', 'alone', 'back', 'together', 'nor', 'too', 'though', 'everywhere', 'in'}\n"
     ]
    }
   ],
   "source": [
    "# Print the set of spaCy's default stop words (remember that sets are unordered):\n",
    "print(nlp.Defaults.stop_words)"
   ]
  },
  {
   "cell_type": "code",
   "execution_count": 3,
   "metadata": {},
   "outputs": [
    {
     "data": {
      "text/plain": [
       "326"
      ]
     },
     "execution_count": 3,
     "metadata": {},
     "output_type": "execute_result"
    }
   ],
   "source": [
    "len(nlp.Defaults.stop_words)"
   ]
  },
  {
   "cell_type": "markdown",
   "metadata": {},
   "source": [
    "## To see if a word is a stop word"
   ]
  },
  {
   "cell_type": "code",
   "execution_count": 4,
   "metadata": {},
   "outputs": [
    {
     "data": {
      "text/plain": [
       "True"
      ]
     },
     "execution_count": 4,
     "metadata": {},
     "output_type": "execute_result"
    }
   ],
   "source": [
    "nlp.vocab['myself'].is_stop"
   ]
  },
  {
   "cell_type": "code",
   "execution_count": 5,
   "metadata": {},
   "outputs": [
    {
     "data": {
      "text/plain": [
       "True"
      ]
     },
     "execution_count": 5,
     "metadata": {},
     "output_type": "execute_result"
    }
   ],
   "source": [
    "nlp.vocab['is'].is_stop"
   ]
  },
  {
   "cell_type": "code",
   "execution_count": 6,
   "metadata": {},
   "outputs": [
    {
     "data": {
      "text/plain": [
       "False"
      ]
     },
     "execution_count": 6,
     "metadata": {},
     "output_type": "execute_result"
    }
   ],
   "source": [
    "nlp.vocab['mystery'].is_stop"
   ]
  },
  {
   "cell_type": "markdown",
   "metadata": {},
   "source": [
    "## To add a stop word\n",
    "There may be times when you wish to add a stop word to the default set. Perhaps you decide that `'btw'` (common shorthand for \"by the way\") should be considered a stop word."
   ]
  },
  {
   "cell_type": "code",
   "execution_count": 7,
   "metadata": {},
   "outputs": [],
   "source": [
    "# Add the word to the set of stop words. Use lowercase!\n",
    "nlp.Defaults.stop_words.add('btw')\n",
    "\n",
    "# Set the stop_word tag on the lexeme\n",
    "nlp.vocab['btw'].is_stop = True"
   ]
  },
  {
   "cell_type": "code",
   "execution_count": 8,
   "metadata": {},
   "outputs": [
    {
     "data": {
      "text/plain": [
       "327"
      ]
     },
     "execution_count": 8,
     "metadata": {},
     "output_type": "execute_result"
    }
   ],
   "source": [
    "len(nlp.Defaults.stop_words)"
   ]
  },
  {
   "cell_type": "markdown",
   "metadata": {},
   "source": [
    "Length increases by 1"
   ]
  },
  {
   "cell_type": "code",
   "execution_count": 8,
   "metadata": {},
   "outputs": [
    {
     "data": {
      "text/plain": [
       "True"
      ]
     },
     "execution_count": 8,
     "metadata": {},
     "output_type": "execute_result"
    }
   ],
   "source": [
    "nlp.vocab['btw'].is_stop"
   ]
  },
  {
   "cell_type": "markdown",
   "metadata": {},
   "source": [
    "<font color=green>When adding stop words, always use lowercase. Lexemes are converted to lowercase before being added to **vocab**.</font>"
   ]
  },
  {
   "cell_type": "markdown",
   "metadata": {},
   "source": [
    "## To remove a stop word\n",
    "Alternatively, you may decide that `'beyond'` should not be considered a stop word."
   ]
  },
  {
   "cell_type": "code",
   "execution_count": 9,
   "metadata": {},
   "outputs": [],
   "source": [
    "# Remove the word from the set of stop words\n",
    "nlp.Defaults.stop_words.remove('beyond')\n",
    "\n",
    "# Remove the stop_word tag from the lexeme\n",
    "nlp.vocab['beyond'].is_stop = False"
   ]
  },
  {
   "cell_type": "code",
   "execution_count": 10,
   "metadata": {},
   "outputs": [
    {
     "data": {
      "text/plain": [
       "326"
      ]
     },
     "execution_count": 10,
     "metadata": {},
     "output_type": "execute_result"
    }
   ],
   "source": [
    "len(nlp.Defaults.stop_words)"
   ]
  },
  {
   "cell_type": "code",
   "execution_count": 11,
   "metadata": {},
   "outputs": [
    {
     "data": {
      "text/plain": [
       "False"
      ]
     },
     "execution_count": 11,
     "metadata": {},
     "output_type": "execute_result"
    }
   ],
   "source": [
    "nlp.vocab['beyond'].is_stop"
   ]
  },
  {
   "cell_type": "markdown",
   "metadata": {},
   "source": [
    "Great! Now you should be able to access spaCy's default set of stop words, and add or remove stop words as needed.\n",
    "## Next up: Vocabulary and Matching"
   ]
  }
 ],
 "metadata": {
  "kernelspec": {
   "display_name": "Python 3",
   "language": "python",
   "name": "python3"
  },
  "language_info": {
   "codemirror_mode": {
    "name": "ipython",
    "version": 3
   },
   "file_extension": ".py",
   "mimetype": "text/x-python",
   "name": "python",
   "nbconvert_exporter": "python",
   "pygments_lexer": "ipython3",
   "version": "3.10.0"
  }
 },
 "nbformat": 4,
 "nbformat_minor": 2
}
